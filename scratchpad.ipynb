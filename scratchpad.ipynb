{
 "cells": [
  {
   "cell_type": "code",
   "execution_count": 1,
   "metadata": {},
   "outputs": [],
   "source": [
    "import qrlib\n",
    "import io\n",
    "\n",
    "one_qr = qrlib.generate_qr_file(\"http://ideal.com.uy\", qr_format=\"svg\")\n",
    "f = open(\"qrsample.svg\", \"w\")\n",
    "f.write(one_qr.getvalue())\n",
    "f.close()\n"
   ]
  },
  {
   "cell_type": "code",
   "execution_count": 5,
   "metadata": {},
   "outputs": [],
   "source": [
    "text = \"https://amazon.com\"\n",
    "qr2 = qrlib.generate_custom_qr_file(\n",
    "    text,\n",
    "    language=\"en\",\n",
    "    qr_format=\"svg\",\n",
    "    size='1000',\n",
    "    ec_level='H',\n",
    "    instructions=True,\n",
    "    style=\"default\",\n",
    "    style_color=\"#FFAA22\",\n",
    "    inner_eye_style=\"circle\",\n",
    "    inner_eye_color=\"#f212ef\",\n",
    "    outer_eye_style=\"right_eye\",\n",
    "    outer_eye_color=\"#a31f00\",\n",
    "    bg_color=\"#FFFFFF\",\n",
    ")\n",
    "with open(\"qrsample.svg\", \"w\") as f:\n",
    "    f.write(qr2.getvalue())\n"
   ]
  },
  {
   "cell_type": "code",
   "execution_count": 3,
   "metadata": {},
   "outputs": [
    {
     "data": {
      "text/plain": [
       "[Decoded(data=b'https://amazon.com', type='QRCODE', rect=Rect(left=106, top=106, width=788, height=788), polygon=[Point(x=106, y=106), Point(x=106, y=894), Point(x=894, y=894), Point(x=894, y=106)], quality=1, orientation='UP')]"
      ]
     },
     "execution_count": 3,
     "metadata": {},
     "output_type": "execute_result"
    }
   ],
   "source": [
    "from pyzbar.pyzbar import decode\n",
    "from PIL import Image\n",
    "decode(Image.open(\"qrsample.png\"))"
   ]
  },
  {
   "cell_type": "code",
   "execution_count": 4,
   "metadata": {},
   "outputs": [],
   "source": [
    "qr3 = qrlib.generate_qr_file(\"http://ideal.com.uy\", qr_format=\"svg\")\n",
    "with open ('qrsample.svg', 'wb') as f:\n",
    "    f.write(qr3.getvalue().encode())\n",
    "\n"
   ]
  },
  {
   "cell_type": "code",
   "execution_count": null,
   "metadata": {},
   "outputs": [],
   "source": []
  }
 ],
 "metadata": {
  "interpreter": {
   "hash": "62cea11bbb0477233ccb32c8e03f0a4a0e5dc22456ef90edddc223cdbbf7017a"
  },
  "kernelspec": {
   "display_name": "Python 3.10.3 64-bit ('qrl')",
   "language": "python",
   "name": "python3"
  },
  "language_info": {
   "codemirror_mode": {
    "name": "ipython",
    "version": 3
   },
   "file_extension": ".py",
   "mimetype": "text/x-python",
   "name": "python",
   "nbconvert_exporter": "python",
   "pygments_lexer": "ipython3",
   "version": "3.10.3"
  },
  "orig_nbformat": 4
 },
 "nbformat": 4,
 "nbformat_minor": 2
}
